{
 "cells": [
  {
   "cell_type": "markdown",
   "id": "65f5b1ad",
   "metadata": {},
   "source": [
    "# Retrieval-Augmented Generation for Brazilian Financial Market\n",
    "Author: Lucas Iuri dos Santos"
   ]
  },
  {
   "cell_type": "markdown",
   "id": "5c655043",
   "metadata": {},
   "source": [
    "## Data Acquisition"
   ]
  },
  {
   "cell_type": "markdown",
   "id": "822d8d77",
   "metadata": {},
   "source": [
    "We begin by data acquisition, which consists of downloanding several PDF reports of Brazilian Securities and Exchange Commission, the federal agency that regulates and supervises the securities and capital markets in Brazil.\n",
    "\n",
    "We begin by accessing the Comission website and download all the reports (in Portuguese)."
   ]
  },
  {
   "cell_type": "code",
   "execution_count": 1,
   "id": "32721518",
   "metadata": {},
   "outputs": [
    {
     "name": "stdout",
     "output_type": "stream",
     "text": [
      "Accessing the URL: https://www.gov.br/cvm/pt-br/centrais-de-conteudo/publicacoes/relatorios/relatorio-de-gestao-da-cvm\n",
      "\n",
      " Found 22 report pages links. Checking them one by one...\n",
      "\n",
      "-> Accessing report page: https://www.gov.br/cvm/pt-br/acesso-a-informacao-cvm/auditorias/relatorios-de-orgaos-de-controle/2024/relatorio-iesgo2024-cvm-tcu.pdf/view\n",
      "-> Downloading \"relatorio-iesgo2024-cvm-tcu.pdf\"...\n",
      "-> Successfully saved in data_cvm/\n",
      "\n",
      "-> Accessing report page: https://www.gov.br/cvm/pt-br/centrais-de-conteudo/publicacoes/relatorios/relatorio-de-gestao-da-cvm/relatorio-gestao-2024.pdf/view\n",
      "-> Downloading \"relatorio-gestao-2024.pdf\"...\n",
      "-> Successfully saved in data_cvm/\n",
      "\n",
      "-> Accessing report page: https://www.gov.br/cvm/pt-br/centrais-de-conteudo/publicacoes/relatorios/relatorio-de-gestao-da-cvm/relatorio-de-gestao-cvm-2023-versao-final-1.pdf/view\n",
      "-> Downloading \"relatorio-de-gestao-cvm-2023-versao-final-1.pdf\"...\n",
      "-> Successfully saved in data_cvm/\n",
      "\n",
      "-> Accessing report page: https://www.gov.br/cvm/pt-br/centrais-de-conteudo/publicacoes/relatorios/relatorio-de-gestao-da-cvm/relatorio-de-gestao-da-cvm-2022/view\n",
      "-> Downloading \"relatorio-de-gestao-da-cvm-2022.pdf\"...\n",
      "-> Successfully saved in data_cvm/\n",
      "\n",
      "-> Accessing report page: https://www.gov.br/cvm/pt-br/centrais-de-conteudo/publicacoes/relatorios/relatorio-de-gestao-da-cvm/relatorio-de-gestao-2021.pdf/view\n",
      "-> Downloading \"relatorio-de-gestao-2021.pdf\"...\n",
      "-> Successfully saved in data_cvm/\n",
      "\n",
      "-> Accessing report page: https://www.gov.br/cvm/pt-br/centrais-de-conteudo/publicacoes/relatorios/relatorio-de-gestao-da-cvm/Relatorio_Gestao_CVM_2020.pdf/view\n",
      "-> Downloading \"Relatorio_Gestao_CVM_2020.pdf\"...\n",
      "-> Successfully saved in data_cvm/\n",
      "\n",
      "-> Accessing report page: https://www.gov.br/cvm/pt-br/centrais-de-conteudo/publicacoes/relatorios/relatorio-de-gestao-da-cvm/relatorio-de-gestao-da-cvm-2019/view\n",
      "-> Downloading \"relatorio-de-gestao-da-cvm-2019.pdf\"...\n",
      "-> Successfully saved in data_cvm/\n",
      "\n",
      "-> Accessing report page: https://www.gov.br/cvm/pt-br/centrais-de-conteudo/publicacoes/relatorios/relatorio-de-gestao-da-cvm/relatorio-de-gestao-da-cvm-2018/view\n",
      "-> Downloading \"relatorio-de-gestao-da-cvm-2018.pdf\"...\n",
      "-> Successfully saved in data_cvm/\n",
      "\n",
      "-> Accessing report page: https://www.gov.br/cvm/pt-br/centrais-de-conteudo/publicacoes/relatorios/relatorio-de-gestao-da-cvm/relatorio-de-gestao-da-cvm-2017/view\n",
      "-> Downloading \"relatorio-de-gestao-da-cvm-2017.pdf\"...\n",
      "-> Successfully saved in data_cvm/\n",
      "\n",
      "-> Accessing report page: https://www.gov.br/cvm/pt-br/centrais-de-conteudo/publicacoes/relatorios/relatorio-de-gestao-da-cvm/relatorio-de-gestao-da-cvm-2016/view\n",
      "-> Downloading \"relatorio-de-gestao-da-cvm-2016.pdf\"...\n",
      "-> Successfully saved in data_cvm/\n",
      "\n",
      "-> Accessing report page: https://www.gov.br/cvm/pt-br/centrais-de-conteudo/publicacoes/relatorios/relatorio-de-gestao-da-cvm/relatorio-de-gestao-da-cvm-2015/view\n",
      "-> Downloading \"relatorio-de-gestao-da-cvm-2015.pdf\"...\n",
      "-> Successfully saved in data_cvm/\n",
      "\n",
      "-> Accessing report page: https://www.gov.br/cvm/pt-br/centrais-de-conteudo/publicacoes/relatorios/relatorio-de-gestao-da-cvm/relatorio-de-gestao-da-cvm-2014/view\n",
      "-> Downloading \"relatorio-de-gestao-da-cvm-2014.pdf\"...\n",
      "-> Successfully saved in data_cvm/\n",
      "\n",
      "-> Accessing report page: https://www.gov.br/cvm/pt-br/centrais-de-conteudo/publicacoes/relatorios/relatorio-de-gestao-da-cvm/relatorio-de-gestao-da-cvm-2013/view\n",
      "-> Downloading \"relatorio-de-gestao-da-cvm-2013.pdf\"...\n",
      "-> Successfully saved in data_cvm/\n",
      "\n",
      "-> Accessing report page: https://www.gov.br/cvm/pt-br/centrais-de-conteudo/publicacoes/relatorios/relatorio-de-gestao-da-cvm/relatorio-de-gestao-da-cvm-2012/view\n",
      "-> Downloading \"relatorio-de-gestao-da-cvm-2012.pdf\"...\n",
      "-> Successfully saved in data_cvm/\n",
      "\n",
      "-> Accessing report page: https://www.gov.br/cvm/pt-br/centrais-de-conteudo/publicacoes/relatorios/relatorio-de-gestao-da-cvm/relatorio-de-gestao-da-cvm-2011/view\n",
      "-> Downloading \"relatorio-de-gestao-da-cvm-2011.pdf\"...\n",
      "-> Successfully saved in data_cvm/\n",
      "\n",
      "-> Accessing report page: https://www.gov.br/cvm/pt-br/centrais-de-conteudo/publicacoes/relatorios/relatorio-de-gestao-da-cvm/relatorio-de-gestao-da-cvm-2010/view\n",
      "-> Downloading \"relatorio-de-gestao-da-cvm-2010.pdf\"...\n",
      "-> Successfully saved in data_cvm/\n",
      "\n",
      "-> Accessing report page: https://www.gov.br/cvm/pt-br/centrais-de-conteudo/publicacoes/relatorios/relatorio-de-gestao-da-cvm/relatorio-de-gestao-da-cvm-2009/view\n",
      "-> Downloading \"relatorio-de-gestao-da-cvm-2009.pdf\"...\n",
      "-> Successfully saved in data_cvm/\n",
      "\n",
      "-> Accessing report page: https://www.gov.br/cvm/pt-br/centrais-de-conteudo/publicacoes/relatorios/relatorio-de-gestao-da-cvm/relatorio-de-gestao-da-cvm-2008/view\n",
      "-> Downloading \"relatorio-de-gestao-da-cvm-2008.pdf\"...\n",
      "-> Successfully saved in data_cvm/\n",
      "\n",
      "-> Accessing report page: https://www.gov.br/cvm/pt-br/centrais-de-conteudo/publicacoes/relatorios/relatorio-de-gestao-da-cvm/relatorio-de-gestao-da-cvm-2007/view\n",
      "-> Downloading \"relatorio-de-gestao-da-cvm-2007.pdf\"...\n",
      "-> Successfully saved in data_cvm/\n",
      "\n",
      "-> Accessing report page: https://www.gov.br/cvm/pt-br/centrais-de-conteudo/publicacoes/relatorios/relatorio-de-gestao-da-cvm/relatorio-de-gestao-da-cvm-2006/view\n",
      "-> Downloading \"relatorio-de-gestao-da-cvm-2006.pdf\"...\n",
      "-> Successfully saved in data_cvm/\n",
      "\n",
      "-> Accessing report page: https://www.gov.br/cvm/pt-br/centrais-de-conteudo/publicacoes/relatorios/relatorio-de-gestao-da-cvm/relatorio-de-gestao-da-cvm-2005/view\n",
      "-> Downloading \"relatorio-de-gestao-da-cvm-2005.pdf\"...\n",
      "-> Successfully saved in data_cvm/\n",
      "\n",
      "-> Accessing report page: https://www.gov.br/cvm/pt-br/centrais-de-conteudo/publicacoes/relatorios/relatorio-de-gestao-da-cvm/relatorio-de-gestao-da-cvm-2004/view\n",
      "-> Downloading \"relatorio-de-gestao-da-cvm-2004.pdf\"...\n",
      "-> Successfully saved in data_cvm/\n",
      "Download process finished.\n"
     ]
    }
   ],
   "source": [
    "from data_acquisition import download_pdfs\n",
    "\n",
    "url = 'https://www.gov.br/cvm/pt-br/centrais-de-conteudo/publicacoes/relatorios/relatorio-de-gestao-da-cvm'\n",
    "download_pdfs(url)"
   ]
  },
  {
   "cell_type": "markdown",
   "id": "116a2f41",
   "metadata": {},
   "source": [
    "And now we merge all the downloaded reports into one single file."
   ]
  },
  {
   "cell_type": "code",
   "execution_count": 2,
   "id": "5c1078ba",
   "metadata": {},
   "outputs": [
    {
     "name": "stdout",
     "output_type": "stream",
     "text": [
      "Found 22 PDF files in ./data_cvm.\n",
      "Adding: Relatorio_Gestao_CVM_2020.pdf\n",
      "Adding: relatorio-de-gestao-2021.pdf\n",
      "Adding: relatorio-de-gestao-cvm-2023-versao-final-1.pdf\n",
      "Adding: relatorio-de-gestao-da-cvm-2004.pdf\n",
      "Adding: relatorio-de-gestao-da-cvm-2005.pdf\n",
      "Adding: relatorio-de-gestao-da-cvm-2006.pdf\n",
      "Adding: relatorio-de-gestao-da-cvm-2007.pdf\n"
     ]
    },
    {
     "name": "stderr",
     "output_type": "stream",
     "text": [
      "Unknown destination: '02_ Apresentação provisória.pdf' [0.0, 1]\n",
      "Unknown destination: '03_ Sumário do Relatório de Gestão 2007.pdf' [0.0, 1]\n",
      "Unknown destination: '04_Item 1_A CVM.pdf' [0.0, 1]\n",
      "Unknown destination: '05_ Relatório de Gestão 2007 formato da Portaria CGU 1950_07.pdf' [0.0, 1]\n",
      "Unknown destination: '06_Item 3.1_Colegiado.pdf' [0.0, 1]\n",
      "Unknown destination: '07_ Item 3.2_ASE.pdf' [0.0, 1]\n",
      "Unknown destination: '08_Item 3.3_ASC.pdf' [0.0, 1]\n",
      "Unknown destination: '09_Item 3.4_SGE.pdf' [0.0, 1]\n",
      "Unknown destination: '10_Item 3.5_PFE.pdf' [0.0, 1]\n",
      "Unknown destination: '11_Item 3.6_SDM.pdf' [0.0, 1]\n",
      "Unknown destination: '12_Item 3.7_SFI.pdf' [0.0, 1]\n",
      "Unknown destination: '13_Item 3.8_SSI.pdf' [0.0, 1]\n",
      "Unknown destination: '14_Item 3.9_SNC.pdf' [0.0, 1]\n",
      "Unknown destination: '15_Item 3.10_SPL.pdf' [0.0, 1]\n",
      "Unknown destination: '16_Item 3.11_SOI.pdf' [0.0, 1]\n",
      "Unknown destination: '17_Item 3.12_SRB.pdf' [0.0, 1]\n",
      "Unknown destination: '18_Item 3.13_SRS.pdf' [0.0, 1]\n",
      "Unknown destination: '19_Item 3.14_SRE.pdf' [0.0, 1]\n",
      "Unknown destination: '20_Item 3.15_SEP.pdf' [0.0, 1]\n",
      "Unknown destination: '21_Item 3.16_SRI.pdf' [0.0, 1]\n",
      "Unknown destination: '22_Item 3.17_SIN.pdf' [0.0, 1]\n",
      "Unknown destination: '23_Item 3.18_SMI.pdf' [0.0, 1]\n",
      "Unknown destination: '24_Item 4_SAD.pdf' [0.0, 1]\n",
      "Unknown destination: '25_Item 5.1_AUD.pdf' [0.0, 1]\n",
      "Unknown destination: '26_Item 5.2_Comissão de Ética.pdf' [0.0, 1]\n",
      "Unknown destination: '27_Item 5.3_Ouvidoria.pdf' [0.0, 1]\n"
     ]
    },
    {
     "name": "stdout",
     "output_type": "stream",
     "text": [
      "Adding: relatorio-de-gestao-da-cvm-2008.pdf\n",
      "Adding: relatorio-de-gestao-da-cvm-2009.pdf\n",
      "Adding: relatorio-de-gestao-da-cvm-2010.pdf\n",
      "Adding: relatorio-de-gestao-da-cvm-2011.pdf\n",
      "Adding: relatorio-de-gestao-da-cvm-2012.pdf\n",
      "Adding: relatorio-de-gestao-da-cvm-2013.pdf\n",
      "Adding: relatorio-de-gestao-da-cvm-2014.pdf\n",
      "Adding: relatorio-de-gestao-da-cvm-2015.pdf\n",
      "Adding: relatorio-de-gestao-da-cvm-2016.pdf\n",
      "Adding: relatorio-de-gestao-da-cvm-2017.pdf\n",
      "An error occurred during the merging process: 'NullObject' object has no attribute '__iter__'\n",
      "Adding: relatorio-de-gestao-da-cvm-2018.pdf\n",
      "Adding: relatorio-de-gestao-da-cvm-2019.pdf\n",
      "Adding: relatorio-de-gestao-da-cvm-2022.pdf\n",
      "Adding: relatorio-gestao-2024.pdf\n",
      "Adding: relatorio-iesgo2024-cvm-tcu.pdf\n",
      "Succesfully merged the files into \"cvm_reports.pdf\".\n"
     ]
    }
   ],
   "source": [
    "from data_acquisition import merge_pdfs\n",
    "\n",
    "merge_pdfs(folder_path = './data_cvm', output_filename='cvm_reports.pdf')"
   ]
  },
  {
   "cell_type": "markdown",
   "id": "8178d079",
   "metadata": {},
   "source": [
    "## Loading and Splitting the Documents"
   ]
  },
  {
   "cell_type": "markdown",
   "id": "dc5861cc",
   "metadata": {},
   "source": [
    "Before creating the model and feeding our document to it, we have to split the the data in smaller chunks to facilitate the processing and searching process."
   ]
  },
  {
   "cell_type": "code",
   "execution_count": 6,
   "id": "4e9c6e10",
   "metadata": {},
   "outputs": [],
   "source": [
    "import os\n",
    "from langchain_community.document_loaders import PyPDFLoader\n",
    "from langchain.text_splitter import RecursiveCharacterTextSplitter"
   ]
  },
  {
   "cell_type": "code",
   "execution_count": 7,
   "id": "57a0f256",
   "metadata": {},
   "outputs": [
    {
     "name": "stdout",
     "output_type": "stream",
     "text": [
      "Document divided in 8906 chunks.\n",
      "Relatório\n",
      "de Gestão\n",
      "2020\n"
     ]
    }
   ],
   "source": [
    "DATA_PATH = 'data_cvm/'\n",
    "\n",
    "# Loading PDF file\n",
    "loader = PyPDFLoader(os.path.join(DATA_PATH, 'cvm_reports.pdf'))\n",
    "documents = loader.load()\n",
    "\n",
    "# Splitting the documents in chunks, with some overlap to avoid context loss.\n",
    "text_splitter = RecursiveCharacterTextSplitter(chunk_size = 1000, chunk_overlap = 200)\n",
    "texts = text_splitter.split_documents(documents)\n",
    "\n",
    "print(f'Document divided in {len(texts)} chunks.')\n",
    "\n",
    "# First chunk\n",
    "print(texts[0].page_content)"
   ]
  },
  {
   "cell_type": "markdown",
   "id": "8963f85f",
   "metadata": {},
   "source": [
    "## Embeddings Creation"
   ]
  },
  {
   "cell_type": "markdown",
   "id": "a6ce76aa",
   "metadata": {},
   "source": [
    "Now we will convert our chunks in numerical vectors."
   ]
  },
  {
   "cell_type": "code",
   "execution_count": 10,
   "id": "38703461",
   "metadata": {},
   "outputs": [
    {
     "name": "stdout",
     "output_type": "stream",
     "text": [
      "Embedding model successfully loaded.\n"
     ]
    }
   ],
   "source": [
    "from langchain_huggingface import HuggingFaceEmbeddings\n",
    "\n",
    "model_name = \"sentence-transformers/paraphrase-multilingual-MiniLM-L12-v2\"\n",
    "model_kwargs = {'device': 'cpu'} # or 'cuda' if you want to use a GPU\n",
    "encode_kwargs = {'normalize_embeddings': False}\n",
    "\n",
    "embeddings = HuggingFaceEmbeddings(\n",
    "    model_name = model_name,\n",
    "    model_kwargs = model_kwargs,\n",
    "    encode_kwargs = encode_kwargs\n",
    ")\n",
    "\n",
    "print('Embedding model successfully loaded.')"
   ]
  },
  {
   "cell_type": "markdown",
   "id": "42afb29c",
   "metadata": {},
   "source": [
    "\n",
    "## Vector Database"
   ]
  },
  {
   "cell_type": "markdown",
   "id": "d934089c",
   "metadata": {},
   "source": [
    "Now we will create a vector database to use it for similarity search."
   ]
  },
  {
   "cell_type": "code",
   "execution_count": null,
   "id": "a020d628",
   "metadata": {},
   "outputs": [
    {
     "name": "stdout",
     "output_type": "stream",
     "text": [
      "Vector database created and saved locally.\n"
     ]
    }
   ],
   "source": [
    "from langchain_community.vectorstores import FAISS\n",
    "\n",
    "db = FAISS.from_documents(texts, embeddings)\n",
    "\n",
    "db.save_local('faiss_index_cvm')\n",
    "\n",
    "print('Vector database created and saved locally.')"
   ]
  },
  {
   "cell_type": "markdown",
   "id": "4282ccd7",
   "metadata": {},
   "source": [
    "## Large Language Model Configuration"
   ]
  },
  {
   "cell_type": "markdown",
   "id": "9651510e",
   "metadata": {},
   "source": [
    "Now we will load the LLM that will process the input prompt and will generate our answers."
   ]
  },
  {
   "cell_type": "code",
   "execution_count": 12,
   "id": "9b733d8b",
   "metadata": {},
   "outputs": [
    {
     "name": "stderr",
     "output_type": "stream",
     "text": [
      "c:\\Users\\lucas\\OneDrive\\Área de Trabalho\\Lucas\\Projetos\\RAG_CVM\\venv\\Lib\\site-packages\\huggingface_hub\\file_download.py:143: UserWarning: `huggingface_hub` cache-system uses symlinks by default to efficiently store duplicated files but your machine does not support them in C:\\Users\\lucas\\.cache\\huggingface\\hub\\models--google--flan-t5-large. Caching files will still work but in a degraded version that might require more space on your disk. This warning can be disabled by setting the `HF_HUB_DISABLE_SYMLINKS_WARNING` environment variable. For more details, see https://huggingface.co/docs/huggingface_hub/how-to-cache#limitations.\n",
      "To support symlinks on Windows, you either need to activate Developer Mode or to run Python as an administrator. In order to activate developer mode, see this article: https://docs.microsoft.com/en-us/windows/apps/get-started/enable-your-device-for-development\n",
      "  warnings.warn(message)\n",
      "Xet Storage is enabled for this repo, but the 'hf_xet' package is not installed. Falling back to regular HTTP download. For better performance, install the package with: `pip install huggingface_hub[hf_xet]` or `pip install hf_xet`\n",
      "Xet Storage is enabled for this repo, but the 'hf_xet' package is not installed. Falling back to regular HTTP download. For better performance, install the package with: `pip install huggingface_hub[hf_xet]` or `pip install hf_xet`\n",
      "Error while downloading from https://huggingface.co/google/flan-t5-large/resolve/main/model.safetensors: HTTPSConnectionPool(host='cas-bridge.xethub.hf.co', port=443): Read timed out.\n",
      "Trying to resume download...\n",
      "Error while downloading from https://huggingface.co/google/flan-t5-large/resolve/main/model.safetensors: HTTPSConnectionPool(host='cas-bridge.xethub.hf.co', port=443): Read timed out.\n",
      "Trying to resume download...\n",
      "'(MaxRetryError('HTTPSConnectionPool(host=\\'huggingface.co\\', port=443): Max retries exceeded with url: /google/flan-t5-large/resolve/main/model.safetensors (Caused by NameResolutionError(\"<urllib3.connection.HTTPSConnection object at 0x000001AA41988050>: Failed to resolve \\'huggingface.co\\' ([Errno 11001] getaddrinfo failed)\"))'), '(Request ID: e2463599-f378-4c09-875d-04c2ba6e9182)')' thrown while requesting GET https://huggingface.co/google/flan-t5-large/resolve/main/model.safetensors\n",
      "Retrying in 1s [Retry 1/5].\n",
      "'(MaxRetryError('HTTPSConnectionPool(host=\\'huggingface.co\\', port=443): Max retries exceeded with url: /google/flan-t5-large/resolve/main/model.safetensors (Caused by NameResolutionError(\"<urllib3.connection.HTTPSConnection object at 0x000001AA41988A50>: Failed to resolve \\'huggingface.co\\' ([Errno 11001] getaddrinfo failed)\"))'), '(Request ID: c5cd3c8a-a77b-4195-8326-d7a6dbe0e939)')' thrown while requesting GET https://huggingface.co/google/flan-t5-large/resolve/main/model.safetensors\n",
      "Retrying in 2s [Retry 2/5].\n",
      "Error while downloading from https://huggingface.co/google/flan-t5-large/resolve/main/model.safetensors: HTTPSConnectionPool(host='cas-bridge.xethub.hf.co', port=443): Read timed out.\n",
      "Trying to resume download...\n",
      "'(MaxRetryError('HTTPSConnectionPool(host=\\'huggingface.co\\', port=443): Max retries exceeded with url: /google/flan-t5-large/resolve/main/model.safetensors (Caused by NameResolutionError(\"<urllib3.connection.HTTPSConnection object at 0x000001AA419891D0>: Failed to resolve \\'huggingface.co\\' ([Errno 11001] getaddrinfo failed)\"))'), '(Request ID: 16462870-cfce-4cef-8c99-e69cdf13fc31)')' thrown while requesting GET https://huggingface.co/google/flan-t5-large/resolve/main/model.safetensors\n",
      "Retrying in 1s [Retry 1/5].\n",
      "'(MaxRetryError('HTTPSConnectionPool(host=\\'huggingface.co\\', port=443): Max retries exceeded with url: /google/flan-t5-large/resolve/main/model.safetensors (Caused by NameResolutionError(\"<urllib3.connection.HTTPSConnection object at 0x000001AA41989590>: Failed to resolve \\'huggingface.co\\' ([Errno 11001] getaddrinfo failed)\"))'), '(Request ID: dc68db45-6463-4c76-b358-0bbb9b02af02)')' thrown while requesting GET https://huggingface.co/google/flan-t5-large/resolve/main/model.safetensors\n",
      "Retrying in 2s [Retry 2/5].\n",
      "'(MaxRetryError('HTTPSConnectionPool(host=\\'huggingface.co\\', port=443): Max retries exceeded with url: /google/flan-t5-large/resolve/main/model.safetensors (Caused by NameResolutionError(\"<urllib3.connection.HTTPSConnection object at 0x000001AA41989950>: Failed to resolve \\'huggingface.co\\' ([Errno 11001] getaddrinfo failed)\"))'), '(Request ID: 9f69398c-8d64-4098-a661-5e2075723d0c)')' thrown while requesting GET https://huggingface.co/google/flan-t5-large/resolve/main/model.safetensors\n",
      "Retrying in 4s [Retry 3/5].\n",
      "Error while downloading from https://huggingface.co/google/flan-t5-large/resolve/main/model.safetensors: HTTPSConnectionPool(host='cas-bridge.xethub.hf.co', port=443): Read timed out.\n",
      "Trying to resume download...\n",
      "Error while downloading from https://huggingface.co/google/flan-t5-large/resolve/main/model.safetensors: HTTPSConnectionPool(host='cas-bridge.xethub.hf.co', port=443): Read timed out.\n",
      "Trying to resume download...\n",
      "Error while downloading from https://huggingface.co/google/flan-t5-large/resolve/main/model.safetensors: HTTPSConnectionPool(host='cas-bridge.xethub.hf.co', port=443): Read timed out.\n",
      "Trying to resume download...\n",
      "'(MaxRetryError('HTTPSConnectionPool(host=\\'huggingface.co\\', port=443): Max retries exceeded with url: /google/flan-t5-large/resolve/main/model.safetensors (Caused by NameResolutionError(\"<urllib3.connection.HTTPSConnection object at 0x000001AA419896D0>: Failed to resolve \\'huggingface.co\\' ([Errno 11001] getaddrinfo failed)\"))'), '(Request ID: 52ea8565-c1d0-4f65-a550-f1579d8229bc)')' thrown while requesting GET https://huggingface.co/google/flan-t5-large/resolve/main/model.safetensors\n",
      "Retrying in 1s [Retry 1/5].\n",
      "Error while downloading from https://huggingface.co/google/flan-t5-large/resolve/main/model.safetensors: HTTPSConnectionPool(host='cas-bridge.xethub.hf.co', port=443): Read timed out.\n",
      "Trying to resume download...\n",
      "Device set to use cpu\n",
      "The following generation flags are not valid and may be ignored: ['temperature']. Set `TRANSFORMERS_VERBOSITY=info` for more details.\n"
     ]
    },
    {
     "name": "stdout",
     "output_type": "stream",
     "text": [
      "LLM succesfully loaded.\n"
     ]
    },
    {
     "name": "stderr",
     "output_type": "stream",
     "text": [
      "C:\\Users\\lucas\\AppData\\Local\\Temp\\ipykernel_73204\\864955054.py:20: LangChainDeprecationWarning: The class `HuggingFacePipeline` was deprecated in LangChain 0.0.37 and will be removed in 1.0. An updated version of the class exists in the :class:`~langchain-huggingface package and should be used instead. To use it run `pip install -U :class:`~langchain-huggingface` and import as `from :class:`~langchain_huggingface import HuggingFacePipeline``.\n",
      "  llm = HuggingFacePipeline(pipeline = pipe)\n"
     ]
    }
   ],
   "source": [
    "from transformers import AutoTokenizer, AutoModelForSeq2SeqLM, pipeline\n",
    "from langchain_community.llms import HuggingFacePipeline\n",
    "\n",
    "model_id = 'google/flan-t5-large' # use 'google/flan-t5-base' if it is too heavy\n",
    "\n",
    "# Load and tokenize the model\n",
    "tokenizer = AutoTokenizer.from_pretrained(model_id)\n",
    "model = AutoModelForSeq2SeqLM.from_pretrained(model_id)\n",
    "\n",
    "# Creating a HuggingFace pipeline\n",
    "pipe = pipeline(\n",
    "    'text2text-generation',\n",
    "    model = model,\n",
    "    tokenizer = tokenizer,\n",
    "    max_length = 512, # raise if the answers are being cut\n",
    "    temperature = 0.1 # Lower values mean more factual responses.\n",
    ")\n",
    "\n",
    "# Creating the LLM instance for LangChain\n",
    "llm = HuggingFacePipeline(pipeline = pipe)\n",
    "\n",
    "print('LLM succesfully loaded.')"
   ]
  },
  {
   "cell_type": "markdown",
   "id": "a1ee69e8",
   "metadata": {},
   "source": [
    "## Retrieval-Augmented Generation Chain"
   ]
  },
  {
   "cell_type": "markdown",
   "id": "cf198ec2",
   "metadata": {},
   "source": [
    "With our model loaded and our data prepared, we can create the chain of our RAG."
   ]
  },
  {
   "cell_type": "code",
   "execution_count": 13,
   "id": "b9daca59",
   "metadata": {},
   "outputs": [
    {
     "name": "stdout",
     "output_type": "stream",
     "text": [
      "RAG chain ready for use.\n"
     ]
    }
   ],
   "source": [
    "from langchain.chains import RetrievalQA\n",
    "\n",
    "# We could have used the previous model and database, but to emphasize that the chain can\n",
    "# be run separately we will create separate variables.\n",
    "embeddings_model = HuggingFaceEmbeddings(model_name = 'sentence-transformers/paraphrase-multilingual-MiniLM-L12-v2')\n",
    "db_loaded = FAISS.load_local('faiss_index_cvm', embeddings_model, allow_dangerous_deserialization=True)\n",
    "\n",
    "\n",
    "# Creating the 'retriever', object that will search the information\n",
    "retriever = db_loaded.as_retriever(search_kwargs = {'k':3}) # searches for the 3 most relevant chunks.\n",
    "\n",
    "# Creating the RAG chain\n",
    "qa_chain = RetrievalQA.from_chain_type(\n",
    "    llm = llm,\n",
    "    chain_type = 'stuff', # 'stuff' joins all the found chunks into one prompt\n",
    "    retriever = retriever,\n",
    "    return_source_documents = True # optional, returns the source of the infromation.\n",
    ")\n",
    "\n",
    "print('RAG chain ready for use.')\n"
   ]
  },
  {
   "cell_type": "markdown",
   "id": "bde9a8d6",
   "metadata": {},
   "source": [
    "## Asking the System"
   ]
  },
  {
   "cell_type": "markdown",
   "id": "c072a8a0",
   "metadata": {},
   "source": [
    "With everything ready, we will create a function for the user to ask a question and process it on our chain."
   ]
  },
  {
   "cell_type": "code",
   "execution_count": 14,
   "id": "bf48e5b8",
   "metadata": {},
   "outputs": [],
   "source": [
    "def ask_question(query):\n",
    "    result = qa_chain.invoke({'query':query})\n",
    "    print('Answer: ', result['result'])\n",
    "    print('\\nSources:')\n",
    "    for doc in result['source_documents']:\n",
    "        print(f'- Page {doc.metadata.get('page', 'N/A')}: ...{doc.page_content[:200]}...')"
   ]
  },
  {
   "cell_type": "code",
   "execution_count": 16,
   "id": "56840d94",
   "metadata": {},
   "outputs": [
    {
     "name": "stdout",
     "output_type": "stream",
     "text": [
      "Answer:  R$ 79.430.179,00\n",
      "\n",
      "Sources:\n",
      "- Page 2765: ...•  76  •\n",
      "Relatório de Gestão CVM 2019\n",
      "Capítulo 5 - Resultados e  \n",
      "desempenho da gestão\n",
      "Distribuição do Limite de Movimentação e Empenho e Limite de \n",
      "Pagamento em 2019 - Despesas Discricionárias\n",
      "5.13.2...\n",
      "- Page 266: ...•  155  •\n",
      "Relatório de Gestão CVM 2021\n",
      "Capítulo 5 - Informações orçamentárias, \n",
      "financeiras e contábeis\n",
      "Porém, em consequência da manutenção da pandemia de COVID-19 e ajustes no planejamento orça -\n",
      "me...\n",
      "- Page 720: ...Passagens e diárias.  \n",
      " \n",
      "ORÇAMENTO \n",
      "  \n",
      "Lei Orçamentária 2005 \n",
      "O orçamento aprovado para a CVM, estabelecido pela Lei nº 11.100, de 25 de janeiro de 2005, foi de \n",
      "R$ 79.430.179,00 , dos quais R$ 65.520...\n"
     ]
    }
   ],
   "source": [
    "question = 'What was the total budget executed by the CVM in 2023?'\n",
    "ask_question(question)"
   ]
  },
  {
   "cell_type": "code",
   "execution_count": 17,
   "id": "396af78f",
   "metadata": {},
   "outputs": [
    {
     "name": "stdout",
     "output_type": "stream",
     "text": [
      "Answer:  Os objetivos estratégicos da CVM e as iniciativas para o seu alcance esto definidos no documento Planejamento Estratégico – Construindo a CVM de 2023\n",
      "\n",
      "Sources:\n",
      "- Page 2580: ...17 \n",
      " \n",
      "3.  PLANEJAMENTO ESTRATÉGICO E GOVERNANÇA \n",
      " \n",
      "3.1.  Planejamento Organizacional \n",
      " \n",
      "A CVM dispõe de planos nos níveis estratégico, tático e operacional, e responde, no âmbito \n",
      "do Plano Plurianual ...\n",
      "- Page 37: ...•  38  •\n",
      "Relatório de Gestão CVM 2020\n",
      "A base sobre a qual são definidos os objetivos estratégicos e priorizados os projetos e os processos para a alocação de \n",
      "recursos é o conjunto de crenças e valore...\n",
      "- Page 2724: ...•  35  •\n",
      "Capítulo 3 - Governança, estratégia  \n",
      "e alocação de recursos\n",
      "Relatório de Gestão CVM 2019  •  35  •\n",
      "3.3. Metas Institucionais 2019\n",
      "Na implantação da estratégia da organização, um dos principa...\n"
     ]
    }
   ],
   "source": [
    "question = \"Summarize the CVM's main initiatives related to the ESG (Environmental, Social, and Governance) agenda mentioned in the latest management report.\"\n",
    "ask_question(question)"
   ]
  },
  {
   "cell_type": "markdown",
   "id": "c062ad73",
   "metadata": {},
   "source": [
    "Since the documents are in Portuguese, we have to clearly state that we want the answer in other languages."
   ]
  },
  {
   "cell_type": "code",
   "execution_count": 20,
   "id": "b0952569",
   "metadata": {},
   "outputs": [
    {
     "name": "stdout",
     "output_type": "stream",
     "text": [
      "Answer:  The evolution of the number of individual investors on the stock exchange between 2022 and 2024, based on the report data.\n",
      "\n",
      "Sources:\n",
      "- Page 466: ...- Fórmula de Cálculo: Relação percentual entre o valor do investimento realizado via mercado de \n",
      "valores mobiliários e o total do investimento na economia. \n",
      "• Relação entre o valor de mercado das comp...\n",
      "- Page 3040: ...•  74  •\n",
      "Relatório de Gestão CVM 2024\n",
      "Capítulo 4 - Governança, estratégia  \n",
      "e desempenho\n",
      "Particularmente no que tange às ofertas públicas de distribuição de ações, foi observada, em 2024, \n",
      "aumento sig...\n",
      "- Page 159: ...matização é detalhar a legislação aplicável ao mercado, dando segurança jurídica aos seus participantes \n",
      "com o menor custo de observância possível.  \n",
      "4.3.1. Evolução em 2021\n",
      "No ano de 2021, foi possív...\n"
     ]
    }
   ],
   "source": [
    "question = \"\"\"Compare the evolution of the number of individual investors \n",
    "on the stock exchange between 2022 and 2024, based on the report data. \n",
    "PLease provide the answer in English.\"\"\"\n",
    "ask_question(question)"
   ]
  }
 ],
 "metadata": {
  "kernelspec": {
   "display_name": "venv",
   "language": "python",
   "name": "python3"
  },
  "language_info": {
   "codemirror_mode": {
    "name": "ipython",
    "version": 3
   },
   "file_extension": ".py",
   "mimetype": "text/x-python",
   "name": "python",
   "nbconvert_exporter": "python",
   "pygments_lexer": "ipython3",
   "version": "3.13.7"
  }
 },
 "nbformat": 4,
 "nbformat_minor": 5
}
